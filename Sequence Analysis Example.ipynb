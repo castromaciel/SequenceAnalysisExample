{
 "cells": [
  {
   "cell_type": "markdown",
   "id": "04b87b90",
   "metadata": {},
   "source": [
    "<h1>Sequence Analysis Example</h1>\n",
    "<h2>Counting Base Pairs</h2>\n",
    "<p>Base pairs often are used to measure the size of an individual gene within a DNA molecule. The total number of base pairs is equal to the number of nucleotides in one of the strands.</p>"
   ]
  },
  {
   "cell_type": "code",
   "execution_count": 35,
   "id": "abbbec53",
   "metadata": {},
   "outputs": [
    {
     "name": "stdout",
     "output_type": "stream",
     "text": [
      "{'A': 25, 'C': 24, 'T': 31, 'G': 19} \n",
      "\n",
      "Where: \n",
      "        'A': Adenine\n",
      "        'C': Cytosine\n",
      "        'T': Thymine\n",
      "        'G': Guanine\n"
     ]
    }
   ],
   "source": [
    "DNA = \"3’-TACTCTCGTTCTTGCAGCTTGTCAGTACTTTCAGAATCATGGTGTGCATGGTAGAATGACTCTTATAACGAACTTCGACATGGCAATAACCCCCCGATT-5’\"\n",
    "\n",
    "def countNucleobases(DNA):\n",
    "    dictionary = {\"A\":0, \"C\":0, \"T\":0, \"G\":0}\n",
    "    for n in DNA:\n",
    "        for key,value in dictionary.items():\n",
    "            if n == key:\n",
    "                dictionary[key] = dictionary[key] + 1\n",
    "    return dictionary\n",
    "\n",
    "dictionary = countNucleobases(DNA)\n",
    "print(dictionary,\"\\n\")\n",
    "print(\"\"\"Where: \n",
    "        'A': Adenine\n",
    "        'C': Cytosine\n",
    "        'T': Thymine\n",
    "        'G': Guanine\"\"\")       "
   ]
  },
  {
   "cell_type": "markdown",
   "id": "044d6782",
   "metadata": {},
   "source": [
    "<h2>Complementary Base Pair</h2>\n",
    "<p>Complementary base pairing is the phenomenon where in DNA guanine always hydrogen bonds to cytosine and adenine always binds to thymine.</p>"
   ]
  },
  {
   "cell_type": "code",
   "execution_count": 36,
   "id": "3378efbe",
   "metadata": {},
   "outputs": [
    {
     "name": "stdout",
     "output_type": "stream",
     "text": [
      "The complementary Base Pair for DNA is:\n",
      "\n",
      "5’-ATGAGAGCAAGAACGTCGAACAGTCATGAAAGTCTTAGTACCACACGTACCATCTTACTGAGAATATTGCTTGAAGCTGTACCGTTATTGGGGGGCTAA-3’\n"
     ]
    }
   ],
   "source": [
    "DNA = \"3’-TACTCTCGTTCTTGCAGCTTGTCAGTACTTTCAGAATCATGGTGTGCATGGTAGAATGACTCTTATAACGAACTTCGACATGGCAATAACCCCCCGATT-5’\"\n",
    "result = \"\"\n",
    "\n",
    "for x in DNA:\n",
    "    if x == \"T\":\n",
    "        x = \"A\"\n",
    "    elif x == \"A\":\n",
    "        x = \"T\"\n",
    "    elif x == \"C\":\n",
    "        x = \"G\"\n",
    "    elif x == \"G\":\n",
    "        x = \"C\"\n",
    "    elif x == \"3\":\n",
    "        x = \"5\"\n",
    "    elif x == \"5\":\n",
    "        x = \"3\"\n",
    "    result = result + x\n",
    "    \n",
    "print(\"The complementary Base Pair for DNA is:\\n\\n\" + result)"
   ]
  },
  {
   "cell_type": "markdown",
   "id": "66835c3f",
   "metadata": {},
   "source": [
    "<h2>Genetic Transcription</h2>\n",
    "    \n",
    "<p>Transcription describes the process by which the genetic information contained within DNA is re-written into messenger RNA.</p> \n"
   ]
  },
  {
   "cell_type": "code",
   "execution_count": 38,
   "id": "c356cf0d",
   "metadata": {},
   "outputs": [
    {
     "name": "stdout",
     "output_type": "stream",
     "text": [
      "The RNA is: 3’-UACUCUCGUUCUUGCAGCUUGUCAGUACUUUCAGAAUCAUGGUGUGCAUGGUAGAAUGACUCUUAUAACGAACUUCGACAUGGCAAUAACCCCCCGAUU-5’\n"
     ]
    }
   ],
   "source": [
    "DNA = \"3’-TACTCTCGTTCTTGCAGCTTGTCAGTACTTTCAGAATCATGGTGTGCATGGTAGAATGACTCTTATAACGAACTTCGACATGGCAATAACCCCCCGATT-5’\"\n",
    "RNA = \"\"\n",
    "\n",
    "for x in DNA:\n",
    "    if x == \"T\":\n",
    "        x = \"U\"\n",
    "    RNA = RNA + x\n",
    "    \n",
    "print(\"The RNA is:\",RNA)"
   ]
  },
  {
   "cell_type": "markdown",
   "id": "1cc2733f",
   "metadata": {},
   "source": [
    "<h2>Translation of Genetic Information</h2>\n",
    "<p>In translation, the messenger RNA (or mRNA) is decoded in order to build a protein.</p>"
   ]
  },
  {
   "cell_type": "code",
   "execution_count": 39,
   "id": "981f837e",
   "metadata": {},
   "outputs": [
    {
     "name": "stdout",
     "output_type": "stream",
     "text": [
      "MET-ARG-ALA-ARG-THR-SER-ASN-SER-HIS-GLU-SER-LEU-SER-THR-THR-ARG-THR-ILE-PHE-LEU-ARG-ILE-PHE-LEU-GLU-ALA-VAL-PRO-PHE-PHE-GLY-GLY-STOP-\n"
     ]
    }
   ],
   "source": [
    "codon = {'UUU':'PHE','UUC':'PHE','UUA':'PHE','UUG':'PHE','UCU':'SER','UCC':'SER',\n",
    "         'UCA':'SER','UCG':'SER','UAU':'TYR','UAC':'TYR','UAA':'STOP','UAG':'STOP',\n",
    "         'UGU':'CYS','UGC':'CYS','UGA':'STOP','UGG':'TRP','CUU':'LEU','CUC':'LEU',\n",
    "         'CUA':'LEU','CUG':'LEU','CCU':'PRO','CCC':'PRO','CCA':'PRO','CCG':'PRO',\n",
    "         'CAU':'HIS','CAC':'HIS','CAA':'GLN','CAG':'GLN','CGU':'ARG','CGC':'ARG',\n",
    "         'CGA':'ARG','CGG':'ARG','AUU':'ILE','AUC':'ILE','AUA':'ILE','AUG':'MET',\n",
    "         'ACU':'THR','ACC':'THR','ACA':'THR','ACG':'THR','AAU':'ASN','AAC':'ASN',\n",
    "         'AAA':'LYS','AAG':'LYS','AGU':'SER','AGC':'SER','AGA':'ARG','AGG':'ARG',\n",
    "         'GUU':'VAL','GUC':'VAL','GUA':'VAL','GUG':'VAL','GCU':'ALA','GCC':'ALA',\n",
    "         'GCA':'ALA','GCG':'ALA','GAU':'ASP','GAC':'ASP','GAA':'GLU','GAG':'GLU',\n",
    "         'GGU':'GLY','GGC':'GLY','GGA':'GLY','GGG':'GLY'}\n",
    "\n",
    "RNA = \"AUGAGAGCAAGAACGUCGAACAGUCAUGAAAGUCUUAGUACCACACGUACCAUCUUACUGAGAAUAUUGCUUGAAGCUGUACCGUUAUUGGGGGGCUAA\"\n",
    "result = \"\"\n",
    "i = 0\n",
    "\n",
    "while i < len(RNA)-2:\n",
    "    triplet = RNA[i:i+3]\n",
    "    for key,value in codon.items():\n",
    "        if triplet == key:\n",
    "            triplet = value\n",
    "    result = result + triplet + \"-\"\n",
    "    i +=3\n",
    "print(result)"
   ]
  },
  {
   "cell_type": "code",
   "execution_count": null,
   "id": "aa034482",
   "metadata": {},
   "outputs": [],
   "source": []
  }
 ],
 "metadata": {
  "kernelspec": {
   "display_name": "Python 3",
   "language": "python",
   "name": "python3"
  },
  "language_info": {
   "codemirror_mode": {
    "name": "ipython",
    "version": 3
   },
   "file_extension": ".py",
   "mimetype": "text/x-python",
   "name": "python",
   "nbconvert_exporter": "python",
   "pygments_lexer": "ipython3",
   "version": "3.9.5"
  }
 },
 "nbformat": 4,
 "nbformat_minor": 5
}
